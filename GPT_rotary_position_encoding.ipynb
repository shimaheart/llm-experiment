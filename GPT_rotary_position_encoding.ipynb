{
  "cells": [
    {
      "cell_type": "markdown",
      "metadata": {
        "id": "R89zs3YSsTG1"
      },
      "source": [
        "# Purpose of this experiment\n",
        "To comparing two cases of transformer  \n",
        "1. with positional embedding\n",
        "2. with rotary position encoding (following the paper [RoFomer: Enhanced Trasformer with Rotary Poisition Embedding](https://arxiv.org/abs/2104.09864))\n",
        "\n",
        "**I look at how train/val loss behaves between the above cases.**\n",
        "\n",
        "\n",
        "The model size is about couple million parameters, and tokens are character-based.     "
      ]
    },
    {
      "cell_type": "markdown",
      "metadata": {
        "id": "8ReX4BZmv68s"
      },
      "source": [
        "# Model Preparation\n",
        "As wonderful reference to codes, I used two resouces  \n",
        "- [Transformer with positional embedding](https://www.youtube.com/watch?v=kCc8FmEb1nY&t=491s) by **Andrej Karpathy**\n",
        "- [source code of Llama](https://github.com/meta-llama/llama/blob/main/llama/model.py#L207) for rotary position encoding\n",
        "  - also, [nice video](https://www.youtube.com/watch?v=oM4VmoabDAI) by Umar Jamil\n",
        "\n",
        "\n",
        "Basically, incorporated rotary position encoding in Andrej's code."
      ]
    },
    {
      "cell_type": "markdown",
      "metadata": {
        "id": "DhTuDr1cx4mC"
      },
      "source": [
        "### Config"
      ]
    },
    {
      "cell_type": "code",
      "execution_count": 6,
      "metadata": {
        "id": "nmxzAWmKjpDY"
      },
      "outputs": [],
      "source": [
        "import torch\n",
        "\n",
        "batch_size = 64\n",
        "block_size = 256\n",
        "max_iters = 10000\n",
        "eval_interval = 500\n",
        "learning_rate = 3e-4\n",
        "device = 'cuda:0' if torch.cuda.is_available() else 'cpu'\n",
        "eval_iters = 200\n",
        "n_embd = 384\n",
        "n_head = 6\n",
        "n_layer = 3\n",
        "dropout = 0.2"
      ]
    },
    {
      "cell_type": "markdown",
      "metadata": {
        "id": "1-GecUNCx93R"
      },
      "source": [
        "### Data Preparation"
      ]
    },
    {
      "cell_type": "code",
      "execution_count": 7,
      "metadata": {
        "colab": {
          "base_uri": "https://localhost:8080/"
        },
        "id": "hpeY-K9Zjw5A",
        "outputId": "bd0c07b5-d1a6-4547-9e63-8aad3ebec441"
      },
      "outputs": [
        {
          "output_type": "stream",
          "name": "stdout",
          "text": [
            "Downloading data from https://storage.googleapis.com/download.tensorflow.org/data/shakespeare.txt\n",
            "1115394/1115394 [==============================] - 1s 1us/step\n"
          ]
        }
      ],
      "source": [
        "import torch\n",
        "import tensorflow as tf\n",
        "path_to_file = tf.keras.utils.get_file('shakespeare.txt', 'https://storage.googleapis.com/download.tensorflow.org/data/shakespeare.txt')\n",
        "text = open(path_to_file, 'rb').read().decode(encoding='utf-8')\n",
        "\n",
        "chars = sorted(list(set(text)))\n",
        "vocab_size = len(chars)\n",
        "\n",
        "stoi = { ch:i for i,ch in enumerate(chars) }\n",
        "itos = { i:ch for i,ch in enumerate(chars) }\n",
        "encode = lambda s: [stoi[c] for c in s]\n",
        "decode = lambda l: ''.join([itos[i] for i in l])\n",
        "\n",
        "data = torch.tensor(encode(text), dtype=torch.long)\n",
        "n = int(0.9*len(data))\n",
        "train_data = data[:n]\n",
        "val_data = data[n:]"
      ]
    },
    {
      "cell_type": "markdown",
      "metadata": {
        "id": "N8QZ9PPzyVdc"
      },
      "source": [
        "### Utils"
      ]
    },
    {
      "cell_type": "code",
      "execution_count": 8,
      "metadata": {
        "id": "WoxRnxjqjz2l"
      },
      "outputs": [],
      "source": [
        "def get_batch(split):\n",
        "    data = train_data if split == 'train' else val_data\n",
        "    ix = torch.randint(len(data) - block_size, (batch_size,))\n",
        "    x = torch.stack([data[i:i+block_size] for i in ix])\n",
        "    y = torch.stack([data[i+1:i+block_size+1] for i in ix])\n",
        "    x, y = x.to(device), y.to(device)\n",
        "    return x, y\n",
        "\n",
        "@torch.no_grad()\n",
        "def estimate_loss(model):\n",
        "    out = {}\n",
        "    model.eval()\n",
        "    for split in ['train', 'val']:\n",
        "        losses = torch.zeros(eval_iters)\n",
        "        for k in range(eval_iters):\n",
        "            X, Y = get_batch(split)\n",
        "            logits, loss = model(X, Y)\n",
        "            losses[k] = loss.item()\n",
        "        out[split] = losses.mean()\n",
        "    model.train()\n",
        "    return out\n",
        "\n",
        "def start_training(model):\n",
        "    optimizer = torch.optim.AdamW(model.parameters(), lr=learning_rate)\n",
        "\n",
        "    train_loss, val_loss, iterations = [], [], []\n",
        "    for iter in range(max_iters):\n",
        "\n",
        "        if iter % eval_interval == 0 or iter == max_iters - 1:\n",
        "            losses = estimate_loss(model)\n",
        "            print(f\"step {iter}: train loss {losses['train']:.4f}, val loss {losses['val']:.4f}\")\n",
        "            val_loss.append(losses['val'])\n",
        "            train_loss.append(losses['train'])\n",
        "            iterations.append(iter)\n",
        "\n",
        "        xb, yb = get_batch('train')\n",
        "\n",
        "        logits, loss = model(xb, yb)\n",
        "        optimizer.zero_grad(set_to_none=True)\n",
        "        loss.backward()\n",
        "        optimizer.step()\n",
        "    return train_loss, val_loss, iterations"
      ]
    },
    {
      "cell_type": "markdown",
      "metadata": {
        "id": "_T-l3mcyycCk"
      },
      "source": [
        "### Functions for Rotary Position Encoding"
      ]
    },
    {
      "cell_type": "code",
      "execution_count": 9,
      "metadata": {
        "id": "gQcwWY5Zj1sI"
      },
      "outputs": [],
      "source": [
        "def precompute_theta_pos_frequencies(head_dim: int, seq_len: int, device:str, theta: float = 10000.0):\n",
        "    assert head_dim % 2 == 0, \"Dimension must be divisible by 2\"\n",
        "    theta_numerator = torch.arange(0, head_dim, 2).float()\n",
        "    theta = 1.0 / (theta ** (theta_numerator / head_dim)).to(device)\n",
        "    m = torch.arange(seq_len, device=device)\n",
        "    freqs = torch.outer(m, theta).float()\n",
        "    freqs_complex = torch.polar(torch.ones_like(freqs), freqs)\n",
        "    return freqs_complex\n",
        "\n",
        "def apply_rotary_embeddings(x: torch.Tensor, freqs_complex: torch.Tensor, device:str):\n",
        "    x_complex = torch.view_as_complex(x.float().reshape(*x.shape[:-1], -1, 2))\n",
        "    freqs_complex = freqs_complex.unsqueeze(0)\n",
        "    freqs_complex = freqs_complex[:, :x.shape[1],:]\n",
        "    x_rotated = x_complex * freqs_complex\n",
        "    x_out = torch.view_as_real(x_rotated)\n",
        "    x_out = x_out.reshape(*x.shape)\n",
        "    return x_out.type_as(x).to(device)"
      ]
    },
    {
      "cell_type": "markdown",
      "metadata": {
        "id": "ubc1tqBHzbe9"
      },
      "source": [
        "### Transformer Encoder Model"
      ]
    },
    {
      "cell_type": "code",
      "execution_count": 10,
      "metadata": {
        "id": "XsOk0fvOj3fr"
      },
      "outputs": [],
      "source": [
        "import torch.nn as nn\n",
        "from torch.nn import functional as F\n",
        "\n",
        "class Head(nn.Module):\n",
        "\n",
        "    def __init__(self, head_size):\n",
        "        super().__init__()\n",
        "        self.key = nn.Linear(n_embd, head_size, bias=False)\n",
        "        self.query = nn.Linear(n_embd, head_size, bias=False)\n",
        "        self.value = nn.Linear(n_embd, head_size, bias=False)\n",
        "        self.register_buffer('tril', torch.tril(torch.ones(block_size, block_size)))\n",
        "\n",
        "        self.dropout = nn.Dropout(dropout)\n",
        "\n",
        "    def forward(self, x, fc=None):\n",
        "        B,T,C = x.shape\n",
        "\n",
        "        k = self.key(x)\n",
        "        q = self.query(x)\n",
        "        v = self.value(x)\n",
        "\n",
        "        if fc is not None:\n",
        "          k = apply_rotary_embeddings(k, fc, device=device)\n",
        "          q = apply_rotary_embeddings(q, fc, device=device)\n",
        "\n",
        "        wei = q @ k.transpose(-2,-1) * C**-0.5\n",
        "        wei = wei.masked_fill(self.tril[:T, :T] == 0, float('-inf'))\n",
        "        wei = F.softmax(wei, dim=-1)\n",
        "        wei = self.dropout(wei)\n",
        "\n",
        "        out = wei @ v\n",
        "        return out\n",
        "\n",
        "class MultiHeadAttention(nn.Module):\n",
        "\n",
        "    def __init__(self, num_heads, head_size):\n",
        "        super().__init__()\n",
        "        self.heads = nn.ModuleList([Head(head_size) for _ in range(num_heads)])\n",
        "        self.proj = nn.Linear(n_embd, n_embd)\n",
        "        self.dropout = nn.Dropout(dropout)\n",
        "\n",
        "    def forward(self, x, fc=None):\n",
        "        out = torch.cat([h(x, fc=fc) for h in self.heads], dim=-1)\n",
        "        out = self.dropout(self.proj(out))\n",
        "        return out\n",
        "\n",
        "class FeedForward(nn.Module):\n",
        "\n",
        "    def __init__(self, n_embd):\n",
        "        super().__init__()\n",
        "        self.net = nn.Sequential(\n",
        "            nn.Linear(n_embd, 4 * n_embd),\n",
        "            nn.ReLU(),\n",
        "            nn.Linear(4 * n_embd, n_embd),\n",
        "            nn.Dropout(dropout),\n",
        "        )\n",
        "\n",
        "    def forward(self, x):\n",
        "        return self.net(x)\n",
        "\n",
        "class Block(nn.Module):\n",
        "\n",
        "    def __init__(self, n_embd, n_head):\n",
        "        super().__init__()\n",
        "        head_size = n_embd // n_head\n",
        "        self.sa = MultiHeadAttention(n_head, head_size)\n",
        "        self.ffwd = FeedForward(n_embd)\n",
        "        self.ln1 = nn.LayerNorm(n_embd)\n",
        "        self.ln2 = nn.LayerNorm(n_embd)\n",
        "\n",
        "    def forward(self, x, fc=None):\n",
        "        x = x + self.sa(x, fc=fc)\n",
        "        x = self.ln1(x)\n",
        "        x = x + self.ffwd(x)\n",
        "        x = self.ln2(x)\n",
        "        return x"
      ]
    },
    {
      "cell_type": "code",
      "execution_count": 11,
      "metadata": {
        "id": "BtT37tKpj5pJ"
      },
      "outputs": [],
      "source": [
        "torch.manual_seed(1234)\n",
        "\n",
        "class model(nn.Module):\n",
        "\n",
        "    def __init__(self, use_pos_emb=False, use_rot_encoding=False):\n",
        "        super().__init__()\n",
        "\n",
        "        self.use_pos_emb = use_pos_emb\n",
        "        self.use_rot_encoding = use_rot_encoding\n",
        "\n",
        "        self.token_embedding_table = nn.Embedding(vocab_size, n_embd)\n",
        "        self.position_embedding_table = nn.Embedding(block_size, n_embd) if self.use_pos_emb else None\n",
        "\n",
        "        head_size = n_embd // n_head\n",
        "        self.blocks = nn.ModuleList()\n",
        "        for layer_id in range(n_layer):\n",
        "            self.blocks.append(Block(n_embd, n_head=n_head))\n",
        "\n",
        "        self.lm_head = nn.Linear(n_embd, vocab_size)\n",
        "\n",
        "        self.freqs_complex = precompute_theta_pos_frequencies(head_size, block_size, device=device) if self.use_rot_encoding else None\n",
        "\n",
        "    def forward(self, idx, targets=None):\n",
        "        B, T = idx.shape\n",
        "\n",
        "        tok_emb = self.token_embedding_table(idx)\n",
        "\n",
        "        x = tok_emb\n",
        "        if self.use_pos_emb:\n",
        "          pos_emb = self.position_embedding_table(torch.arange(T, device=device))\n",
        "          x += pos_emb\n",
        "\n",
        "\n",
        "        for block in self.blocks:\n",
        "            x = block(x, self.freqs_complex)\n",
        "\n",
        "        logits = self.lm_head(x)\n",
        "\n",
        "        if targets is None:\n",
        "            loss = None\n",
        "        else:\n",
        "            B, T, C = logits.shape\n",
        "\n",
        "            logits = logits.view(B*T, C)\n",
        "            targets = targets.view(B*T)\n",
        "            loss = F.cross_entropy(logits, targets)\n",
        "        return logits, loss\n",
        "\n",
        "    def generate(self, idx, max_new_tokens):\n",
        "        for _ in range(max_new_tokens):\n",
        "            idx_cond = idx[:, -block_size:]\n",
        "            logits, loss = self(idx_cond)\n",
        "            logits = logits[:, -1, :]\n",
        "            probs = F.softmax(logits, dim=-1)\n",
        "            idx_next = torch.multinomial(probs, num_samples=1)\n",
        "            idx = torch.cat((idx, idx_next), dim=1)\n",
        "        return idx"
      ]
    },
    {
      "cell_type": "markdown",
      "source": [
        "### Run with Rotary Positional Encoding"
      ],
      "metadata": {
        "id": "EICBHOGrE7eM"
      }
    },
    {
      "cell_type": "code",
      "execution_count": 12,
      "metadata": {
        "colab": {
          "base_uri": "https://localhost:8080/"
        },
        "id": "VcB8Ae1bj8_u",
        "outputId": "4b596afa-db32-46af-dc6e-1db2a2976e55"
      },
      "outputs": [
        {
          "output_type": "stream",
          "name": "stdout",
          "text": [
            "step 0: train loss 4.3206, val loss 4.3198\n",
            "step 500: train loss 1.5605, val loss 1.7410\n",
            "step 1000: train loss 1.4051, val loss 1.6163\n",
            "step 1500: train loss 1.3304, val loss 1.5651\n",
            "step 2000: train loss 1.2795, val loss 1.5338\n",
            "step 2500: train loss 1.2405, val loss 1.5237\n",
            "step 3000: train loss 1.2066, val loss 1.5070\n",
            "step 3500: train loss 1.1762, val loss 1.4970\n",
            "step 4000: train loss 1.1518, val loss 1.4966\n",
            "step 4500: train loss 1.1251, val loss 1.4958\n",
            "step 5000: train loss 1.1064, val loss 1.5074\n",
            "step 5500: train loss 1.0832, val loss 1.5025\n",
            "step 6000: train loss 1.0600, val loss 1.5114\n",
            "step 6500: train loss 1.0366, val loss 1.5127\n",
            "step 7000: train loss 1.0172, val loss 1.5269\n",
            "step 7500: train loss 0.9983, val loss 1.5247\n",
            "step 8000: train loss 0.9790, val loss 1.5316\n",
            "step 8500: train loss 0.9614, val loss 1.5334\n",
            "step 9000: train loss 0.9423, val loss 1.5533\n",
            "step 9500: train loss 0.9265, val loss 1.5678\n",
            "step 9999: train loss 0.9062, val loss 1.5686\n"
          ]
        }
      ],
      "source": [
        "model_rot_encoding = model(use_pos_emb=False, use_rot_encoding=True).to(device)\n",
        "\n",
        "train_loss_0, val_loss_0, iterations_0 = start_training(model_rot_encoding)"
      ]
    },
    {
      "cell_type": "code",
      "source": [
        "context = torch.zeros((1, 1), dtype=torch.long, device=device)\n",
        "print(decode(model_rot_encoding.generate(idx=context, max_new_tokens=1000)[0].tolist()))"
      ],
      "metadata": {
        "colab": {
          "base_uri": "https://localhost:8080/"
        },
        "id": "GvpQs8KrmlZ0",
        "outputId": "176a829b-2d91-4354-f3b8-eb8e860c01da"
      },
      "execution_count": 17,
      "outputs": [
        {
          "output_type": "stream",
          "name": "stdout",
          "text": [
            "\n",
            "ROMEO:\n",
            "Stake the directitude to be rain!\n",
            "\n",
            "PETRUCHIO:\n",
            "The benefit of my dear proph, ere were God!\n",
            "O place, thy turn swift against those\n",
            "Thanking thy sinews thusets, privil'd-royar,\n",
            "Though for thy lenealce from mine enemy:\n",
            "Thou, many corse; the truth to endure gound.\n",
            "\n",
            "CLARENCE:\n",
            "Sirrah, but to thy father's charge the palate!\n",
            "Soft! for whoso followers shall not stand:\n",
            "I will thy contrary forth of these dears?\n",
            "Reads, lay.\n",
            "\n",
            "BUCKINGHAM:\n",
            "My lord, here consul is Surrey,\n",
            "So Thursday Plantagenet. Lady: these will after:\n",
            "Commend and noble king, the happy curse\n",
            "I seen us in his reposed of a pushond fast.\n",
            "Who dares for us? 'tis it become the cause.\n",
            "\n",
            "Messenger:\n",
            "Had slaid an oath nor guess\n",
            "To make me, whisper so her army\n",
            "Beauty senator: sits my needs wold, I she\n",
            "And put it on me, that ever it, so cripely\n",
            "Stand up good town so glir with your king.\n",
            "Now, afre you log; not as if you stain,--\n",
            "Were not are the went with the cobject,\n",
            "For haltive stone posk without hearing sweet,\n",
            "And that way thrive mine, who\n"
          ]
        }
      ]
    },
    {
      "cell_type": "markdown",
      "source": [
        "### Run with Positional Embedding"
      ],
      "metadata": {
        "id": "ujRxcBe2FC-I"
      }
    },
    {
      "cell_type": "code",
      "execution_count": null,
      "metadata": {
        "id": "j-VaquBsBs9y",
        "colab": {
          "base_uri": "https://localhost:8080/"
        },
        "outputId": "a35950ad-b50e-4023-9c7e-2e5ee504fc74"
      },
      "outputs": [
        {
          "output_type": "stream",
          "name": "stdout",
          "text": [
            "step 0: train loss 4.3160, val loss 4.3229\n",
            "step 500: train loss 2.0393, val loss 2.1087\n",
            "step 1000: train loss 1.6545, val loss 1.8198\n",
            "step 1500: train loss 1.5011, val loss 1.6945\n",
            "step 2000: train loss 1.4194, val loss 1.6155\n",
            "step 2500: train loss 1.3610, val loss 1.5876\n",
            "step 3000: train loss 1.3222, val loss 1.5604\n",
            "step 3500: train loss 1.2913, val loss 1.5477\n",
            "step 4000: train loss 1.2571, val loss 1.5221\n",
            "step 4500: train loss 1.2323, val loss 1.5090\n",
            "step 5000: train loss 1.2095, val loss 1.5127\n",
            "step 5500: train loss 1.1860, val loss 1.5026\n",
            "step 6000: train loss 1.1693, val loss 1.4977\n",
            "step 6500: train loss 1.1463, val loss 1.4992\n",
            "step 7000: train loss 1.1305, val loss 1.4932\n",
            "step 7500: train loss 1.1131, val loss 1.4859\n",
            "step 8000: train loss 1.1010, val loss 1.4955\n",
            "step 8500: train loss 1.0815, val loss 1.4997\n",
            "step 9000: train loss 1.0664, val loss 1.4944\n",
            "step 9500: train loss 1.0508, val loss 1.5014\n",
            "step 9999: train loss 1.0370, val loss 1.5077\n"
          ]
        }
      ],
      "source": [
        "model_pos_embed = model(use_pos_emb=True, use_rot_encoding=False).to(device)\n",
        "\n",
        "train_loss_1, val_loss_1, iterations_1 = start_training(model_pos_embed)"
      ]
    },
    {
      "cell_type": "markdown",
      "source": [
        "### Run without any positional information"
      ],
      "metadata": {
        "id": "b5bP0xcSFHBa"
      }
    },
    {
      "cell_type": "code",
      "execution_count": null,
      "metadata": {
        "id": "YPCtiirvDBfz",
        "colab": {
          "base_uri": "https://localhost:8080/"
        },
        "outputId": "e5d72292-55e5-4000-bffd-577f6b6b0d27"
      },
      "outputs": [
        {
          "output_type": "stream",
          "name": "stdout",
          "text": [
            "step 0: train loss 4.3432, val loss 4.3513\n",
            "step 500: train loss 2.3217, val loss 2.3840\n",
            "step 1000: train loss 2.0656, val loss 2.1862\n",
            "step 1500: train loss 1.9222, val loss 2.0660\n",
            "step 2000: train loss 1.8012, val loss 1.9656\n",
            "step 2500: train loss 1.7424, val loss 1.9210\n",
            "step 3000: train loss 1.7101, val loss 1.9069\n",
            "step 3500: train loss 1.6573, val loss 1.8660\n",
            "step 4000: train loss 1.6459, val loss 1.8592\n",
            "step 4500: train loss 1.6120, val loss 1.8340\n",
            "step 5000: train loss 1.5977, val loss 1.8253\n",
            "step 5500: train loss 1.5721, val loss 1.8140\n",
            "step 6000: train loss 1.5686, val loss 1.8049\n",
            "step 6500: train loss 1.5597, val loss 1.8084\n",
            "step 7000: train loss 1.5502, val loss 1.8059\n",
            "step 7500: train loss 1.5462, val loss 1.8042\n",
            "step 8000: train loss 1.5271, val loss 1.7907\n",
            "step 8500: train loss 1.5185, val loss 1.7919\n",
            "step 9000: train loss 1.5135, val loss 1.7911\n",
            "step 9500: train loss 1.5029, val loss 1.7802\n",
            "step 9999: train loss 1.4889, val loss 1.7767\n"
          ]
        }
      ],
      "source": [
        "model_no_pos = model(use_pos_emb=False, use_rot_encoding=False).to(device)\n",
        "\n",
        "train_loss_2, val_loss_2, iterations_2 = start_training(model_no_pos)"
      ]
    },
    {
      "cell_type": "code",
      "source": [
        "import pandas as pd\n",
        "\n",
        "path = '/content/drive/MyDrive/'\n",
        "\n",
        "for train, val, name in zip([train_loss_0, train_loss_1, train_loss_2],\n",
        "                      [val_loss_0, val_loss_1, val_loss_2],\n",
        "                      ['rotary_encoding', 'pos_embedding', 'none']):\n",
        "\n",
        "  df = pd.DataFrame()\n",
        "  df['steps'] = iterations_0\n",
        "  df['train_loss'] = train\n",
        "  df['val_loss'] = val\n",
        "  df['train_loss'] = df['train_loss'].apply(lambda x:x.item())\n",
        "  df['val_loss'] = df['val_loss'].apply(lambda x:x.item())\n",
        "\n",
        "  df.to_csv(path+name + '_loss_evaluation.csv', index=False)"
      ],
      "metadata": {
        "id": "FITIk0k4bsp8"
      },
      "execution_count": null,
      "outputs": []
    },
    {
      "cell_type": "markdown",
      "source": [
        "# Results"
      ],
      "metadata": {
        "id": "fHbYITWBow3U"
      }
    },
    {
      "cell_type": "code",
      "source": [
        "import pandas as pd\n",
        "\n",
        "df_re = pd.read_csv('/content/drive/MyDrive/rotary_encoding_loss_evaluation.csv')\n",
        "df_pe = pd.read_csv('/content/drive/MyDrive/pos_embedding_loss_evaluation.csv')\n",
        "df_n = pd.read_csv('/content/drive/MyDrive/none_loss_evaluation.csv')"
      ],
      "metadata": {
        "id": "7AaVwybvdE7k"
      },
      "execution_count": 1,
      "outputs": []
    },
    {
      "cell_type": "code",
      "source": [
        "import matplotlib.pyplot as plt\n",
        "\n",
        "fig, ax = plt.subplots(figsize=(8, 5))\n",
        "\n",
        "ax.plot(df_re['steps'], df_re['train_loss'], label='Rotary Positional Encoding')\n",
        "ax.plot(df_pe['steps'], df_pe['train_loss'], label='Positional Embedding (learned)')\n",
        "ax.plot(df_n['steps'], df_n['train_loss'], label='No positional information')\n",
        "ax.set_title('Loss for Training Data')\n",
        "ax.legend()\n",
        "ax.set_xlabel('steps')\n",
        "ax.set_ylabel('loss')\n",
        "fig.savefig('training.png')"
      ],
      "metadata": {
        "colab": {
          "base_uri": "https://localhost:8080/",
          "height": 487
        },
        "id": "0tu6xv7bpmaK",
        "outputId": "6eecc62c-b85d-4553-e28f-95d855e28f4c"
      },
      "execution_count": 4,
      "outputs": [
        {
          "output_type": "display_data",
          "data": {
            "text/plain": [
              "<Figure size 800x500 with 1 Axes>"
            ],
            "image/png": "[encoded data removed]"
          },
          "metadata": {}
        }
      ]
    },
    {
      "cell_type": "code",
      "source": [
        "fig, ax = plt.subplots(figsize=(8, 5))\n",
        "\n",
        "ax.plot(df_re['steps'], df_re['val_loss'], label='Rotary Positional Encoding')\n",
        "ax.plot(df_pe['steps'], df_pe['val_loss'], label='Positional Embedding (learned)')\n",
        "ax.plot(df_n['steps'], df_n['val_loss'], label='No positional information')\n",
        "ax.set_title('Loss for Validation Data')\n",
        "ax.legend()\n",
        "ax.set_xlabel('steps')\n",
        "ax.set_ylabel('loss')\n",
        "fig.savefig('validation.png')"
      ],
      "metadata": {
        "colab": {
          "base_uri": "https://localhost:8080/",
          "height": 487
        },
        "id": "n0m0YeHwraGj",
        "outputId": "34f9007d-5f37-4fb5-9ca3-23673c69a39c"
      },
      "execution_count": 5,
      "outputs": [
        {
          "output_type": "display_data",
          "data": {
            "text/plain": [
              "<Figure size 800x500 with 1 Axes>"
            ],
            "image/png": "[encoded data removed]"
          },
          "metadata": {}
        }
      ]
    }
  ],
  "metadata": {
    "accelerator": "GPU",
    "colab": {
      "gpuType": "T4",
      "machine_shape": "hm",
      "provenance": []
    },
    "kernelspec": {
      "display_name": "Python 3",
      "name": "python3"
    },
    "language_info": {
      "name": "python"
    }
  },
  "nbformat": 4,
  "nbformat_minor": 0
}